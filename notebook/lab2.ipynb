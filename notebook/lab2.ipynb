{
 "cells": [
  {
   "cell_type": "markdown",
   "id": "c6611c8e",
   "metadata": {},
   "source": [
    "# CS4243 - Lab Session 2\n",
    "Computer Vision & Pattern Recognition\n",
    "\n",
    "Week 4\n",
    "\n",
    "Author: Dr. Amirhassan MONAJEMI. Modified by: Xiao CAO"
   ]
  },
  {
   "cell_type": "markdown",
   "id": "26309eca",
   "metadata": {},
   "source": [
    "## Welcome! 👋\n",
    "\n",
    "This notebook contains the tutorials for the `first` and `second` lab sessions. The following materials are covered:\n",
    "- Session #1: Background and Global Operations\n",
    "- Session #2: Local Operations and Spatial Domain Filtering\n",
    "\n",
    "This week focuses on the first session. We will explore the basic global operations of image processing and how to use them to alter and enhance an image."
   ]
  },
  {
   "cell_type": "markdown",
   "id": "ecc1d0c7",
   "metadata": {},
   "source": [
    "Things to do in the following session:"
   ]
  },
  {
   "cell_type": "markdown",
   "id": "cea8a039",
   "metadata": {},
   "source": [
    "# Local Operations and Spatial Domain Filtering "
   ]
  },
  {
   "cell_type": "markdown",
   "id": "de49030c",
   "metadata": {},
   "source": [
    "### Part 8: Filtering, LP, and HP\n",
    "Read an image, design some filters like the filters that you can see below.\n",
    "- Filter your image with those filters. Use the `cv2.filter2D` instruction.\n",
    "- See the resulting image and compute its power and entropy\n",
    "- Check different arguments of that filter2D function"
   ]
  },
  {
   "cell_type": "code",
   "execution_count": null,
   "id": "2250d4a5",
   "metadata": {},
   "outputs": [],
   "source": [
    "import cv2\n",
    "import numpy as np\n",
    "#Your image path\n",
    "im_file = \"\""
   ]
  },
  {
   "cell_type": "markdown",
   "id": "225f6c02",
   "metadata": {},
   "source": [
    "You should try to define 2-3 low pass filter and 1-2 high pass filter. And then apply to your image."
   ]
  },
  {
   "cell_type": "code",
   "execution_count": null,
   "id": "a1a5a302",
   "metadata": {},
   "outputs": [],
   "source": [
    "gle = cv2.imread(im_file, 0)\n",
    "\n",
    "#Define Your kernels\n",
    "Kernels=[]"
   ]
  },
  {
   "cell_type": "code",
   "execution_count": null,
   "id": "063073ab",
   "metadata": {},
   "outputs": [],
   "source": [
    "from matplotlib import pyplot as plt"
   ]
  },
  {
   "cell_type": "code",
   "execution_count": null,
   "id": "a03e4a81",
   "metadata": {},
   "outputs": [],
   "source": [
    "# Apply your kernels to the image and show the results by matplotlib\n",
    "plt.figure(figsize=(10, 5))\n",
    "imgs=[]\n",
    "for i in range(len(k_name)):\n",
    "    imgs.append(cv2.filter2D(src=gle, ddepth=-1, kernel=kernels[i]))\n",
    "plt.subplot(231), plt.imshow(imgs[0]), plt.title('Low Pass 1'), plt.axis('off') \n",
    "plt.subplot(232), plt.imshow(imgs[1]), plt.title('Low Pass 2') , plt.axis('off')\n",
    "plt.subplot(233), plt.imshow(imgs[2]), plt.title('Low Pass 3'), plt.axis('off')\n",
    "plt.subplot(234), plt.imshow(imgs[3]), plt.title('High Pass 1'), plt.axis('off')\n",
    "plt.subplot(235), plt.imshow(imgs[4]), plt.title('High Pass 2'), plt.axis('off')\n"
   ]
  },
  {
   "cell_type": "markdown",
   "id": "01b048c9",
   "metadata": {},
   "source": [
    "### Part 9: Sobel Operator\n",
    "Develop a Sobel edge detection program and test it on images below.\n",
    "\n",
    "- In this section, you should define the sobel kernel to extract vertical and horizontal features.\n",
    "- Set a threshold to extract clearer feature\n",
    "- After you obtain the x and y axis features, try to combine them together"
   ]
  },
  {
   "cell_type": "code",
   "execution_count": null,
   "id": "96992168",
   "metadata": {},
   "outputs": [],
   "source": [
    "#y_sobel_kernel = \n",
    "#x_sobel_kernel ="
   ]
  },
  {
   "cell_type": "code",
   "execution_count": null,
   "id": "3f5eb962",
   "metadata": {},
   "outputs": [],
   "source": [
    "#Y_feature = cv2.filter2D(src=gle, ddepth=-1, kernel=y_sobel_kernel)\n",
    "#X_feature = cv2.filter2D(src=gle, ddepth=-1, kernel=x_sobel_kernel)"
   ]
  },
  {
   "cell_type": "code",
   "execution_count": null,
   "id": "197f345d",
   "metadata": {},
   "outputs": [],
   "source": [
    "plt.figure(figsize=(10, 5))\n",
    "plt.subplot(121), plt.imshow(Y_feature), plt.axis('off') \n",
    "plt.subplot(122), plt.imshow(X_feature) , plt.axis('off')"
   ]
  },
  {
   "cell_type": "markdown",
   "id": "a99f6f1d",
   "metadata": {},
   "source": [
    "How can we get the unified version (vertical and horizontal feature in one image)?"
   ]
  },
  {
   "cell_type": "code",
   "execution_count": null,
   "id": "bad1adeb",
   "metadata": {},
   "outputs": [],
   "source": [
    "#Code to combine two feature maps, and try to visualize the result\n"
   ]
  }
 ],
 "metadata": {
  "kernelspec": {
   "display_name": "Python 3 (ipykernel)",
   "language": "python",
   "name": "python3"
  },
  "language_info": {
   "codemirror_mode": {
    "name": "ipython",
    "version": 3
   },
   "file_extension": ".py",
   "mimetype": "text/x-python",
   "name": "python",
   "nbconvert_exporter": "python",
   "pygments_lexer": "ipython3",
   "version": "3.8.16"
  }
 },
 "nbformat": 4,
 "nbformat_minor": 5
}
